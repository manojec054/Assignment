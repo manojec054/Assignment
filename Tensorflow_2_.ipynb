{
  "nbformat": 4,
  "nbformat_minor": 0,
  "metadata": {
    "colab": {
      "name": "Tensorflow_2 .ipynb",
      "provenance": [],
      "collapsed_sections": [],
      "include_colab_link": true
    },
    "kernelspec": {
      "name": "python3",
      "display_name": "Python 3"
    },
    "accelerator": "GPU"
  },
  "cells": [
    {
      "cell_type": "markdown",
      "metadata": {
        "id": "view-in-github",
        "colab_type": "text"
      },
      "source": [
        "<a href=\"https://colab.research.google.com/github/manojec054/Assignment/blob/master/Tensorflow_2_.ipynb\" target=\"_parent\"><img src=\"https://colab.research.google.com/assets/colab-badge.svg\" alt=\"Open In Colab\"/></a>"
      ]
    },
    {
      "cell_type": "markdown",
      "metadata": {
        "id": "YwRhVNG9kVbv"
      },
      "source": [
        "# Tensorflow 2 Introduction\n",
        "\n",
        "Tensorflow 2.x alongwith Keras API provide a powerful set of tools to write Neural Networks, test and deploy them in a jiffy. \n",
        "\n",
        "The official documentation could be found here : https://www.tensorflow.org/"
      ]
    },
    {
      "cell_type": "markdown",
      "metadata": {
        "id": "RRcZDuL1oJ8e"
      },
      "source": [
        "---\n",
        "### TensorFlow 2.0 is an extensive redesign of TensorFlow and Keras that takes into account over four years of user feedback and technical progress.\n",
        "---\n",
        "\n",
        "TensorFlow 2.0 is built on the following key ideas:\n",
        "\n",
        "- Let users run their computation eagerly, like they would in Numpy. This makes TensorFlow 2.0 programming intuitive and Pythonic.\n",
        "- Preserve the considerable advantages of compiled graphs (for performance, distribution, and deployment). This makes TensorFlow fast, scalable, and production-ready.\n",
        "- Leverage Keras as its high-level deep learning API, making TensorFlow approachable and highly productive.\n",
        "- Extend Keras into a spectrum of workflows ranging from the very high-level (easier to use, less flexible) to the very low-level (requires more expertise, but provides great flexibility)."
      ]
    },
    {
      "cell_type": "markdown",
      "metadata": {
        "id": "dQirvOlfk6T6"
      },
      "source": [
        "### Easy model building\n",
        "TensorFlow offers multiple levels of abstraction so you can choose the right one for your needs. Build and train models by using the high-level Keras API, which makes getting started with TensorFlow and machine learning easy.\n",
        "\n",
        "If you need more flexibility, eager execution allows for immediate iteration and intuitive debugging. For large ML training tasks, use the Distribution Strategy API for distributed training on different hardware configurations without changing the model definition."
      ]
    },
    {
      "cell_type": "markdown",
      "metadata": {
        "id": "jMN-IZnalFdI"
      },
      "source": [
        "### Robust ML production anywhere\n",
        "TensorFlow has always provided a direct path to production. Whether it’s on servers, edge devices, or the web, TensorFlow lets you train and deploy your model easily, no matter what language or platform you use.\n",
        "\n",
        "Use TensorFlow Extended (TFX) if you need a full production ML pipeline. For running inference on mobile and edge devices, use TensorFlow Lite. Train and deploy models in JavaScript environments using TensorFlow.js."
      ]
    },
    {
      "cell_type": "markdown",
      "metadata": {
        "id": "mdQePGOdlMUw"
      },
      "source": [
        "### Powerful experimentation for research\n",
        "Build and train state-of-the-art models without sacrificing speed or performance. TensorFlow gives you the flexibility and control with features like the Keras Functional API and Model Subclassing API for creation of complex topologies. For easy prototyping and fast debugging, use eager execution.\n",
        "\n",
        "TensorFlow also supports an ecosystem of powerful add-on libraries and models to experiment with, including Ragged Tensors, TensorFlow Probability, Tensor2Tensor and BERT."
      ]
    },
    {
      "cell_type": "code",
      "metadata": {
        "id": "GjAseJNgjwSq",
        "colab": {
          "base_uri": "https://localhost:8080/",
          "height": 35
        },
        "outputId": "ed2f5acd-4341-40c9-ef46-6af392b2db92"
      },
      "source": [
        "'''\n",
        "!pip install --upgrade tensorflow  # cpu only\n",
        "!pip install --upgrade tensorflow-gpu # gpu and cpu\n",
        "'''"
      ],
      "execution_count": null,
      "outputs": [
        {
          "output_type": "execute_result",
          "data": {
            "application/vnd.google.colaboratory.intrinsic": {
              "type": "string"
            },
            "text/plain": [
              "'\\n!pip install --upgrade tensorflow  # cpu only\\n!pip install --upgrade tensorflow-gpu # gpu and cpu\\n'"
            ]
          },
          "metadata": {
            "tags": []
          },
          "execution_count": 1
        }
      ]
    },
    {
      "cell_type": "code",
      "metadata": {
        "id": "n7MT_GHwlfbS",
        "colab": {
          "base_uri": "https://localhost:8080/"
        },
        "outputId": "579c2d09-12cd-4b9b-a6a3-bbf45a61ccc3"
      },
      "source": [
        "# check the version\n",
        "import tensorflow as tf\n",
        "print(('Your TensorFlow version: {0}').format(tf.__version__))"
      ],
      "execution_count": null,
      "outputs": [
        {
          "output_type": "stream",
          "text": [
            "Your TensorFlow version: 2.4.0\n"
          ],
          "name": "stdout"
        }
      ]
    },
    {
      "cell_type": "markdown",
      "metadata": {
        "id": "6Fua7TBZlxgM"
      },
      "source": [
        "How to verify if running eager execution?\n",
        "\n",
        "Eager execution is a fairly new addition to the tensorflow framework, thus we wish to check if eager execution is enabled or disabled."
      ]
    },
    {
      "cell_type": "code",
      "metadata": {
        "id": "ta3hAFCUl1gd",
        "colab": {
          "base_uri": "https://localhost:8080/"
        },
        "outputId": "efd2d450-2840-44ae-bc37-157333cbf5f1"
      },
      "source": [
        "if(tf.executing_eagerly()):\n",
        "    print('Eager execution is enabled (running operations immediately)\\n')\n",
        "    print(('Turn eager execution off by running: \\n{0}\\n{1}').format('' \\\n",
        "        'from tensorflow.python.framework.ops import disable_eager_execution', \\\n",
        "        'disable_eager_execution()'))\n",
        "else:\n",
        "    print('You are not running eager execution. TensorFlow version >= 2.0.0' \\\n",
        "          'has eager execution enabled by default.')\n",
        "    print(('Turn on eager execution by running: \\n\\n{0}\\n\\nOr upgrade '\\\n",
        "           'your tensorflow version by running:\\n\\n{1}').format(\n",
        "           'tf.compat.v1.enable_eager_execution()'))"
      ],
      "execution_count": null,
      "outputs": [
        {
          "output_type": "stream",
          "text": [
            "Eager execution is enabled (running operations immediately)\n",
            "\n",
            "Turn eager execution off by running: \n",
            "from tensorflow.python.framework.ops import disable_eager_execution\n",
            "disable_eager_execution()\n"
          ],
          "name": "stdout"
        }
      ]
    },
    {
      "cell_type": "markdown",
      "metadata": {
        "id": "Rq2K_DC7mOHG"
      },
      "source": [
        "Verify if GPU is available and ready to be used"
      ]
    },
    {
      "cell_type": "code",
      "metadata": {
        "id": "oAXts2AVmNtq",
        "colab": {
          "base_uri": "https://localhost:8080/"
        },
        "outputId": "344740a0-df7a-4d69-df60-62811dcc279d"
      },
      "source": [
        "print(('Is your GPU available for use? \\n{0}').format(\n",
        "    'Yes, your GPU is available: True' if tf.test.is_gpu_available() == True else 'No, your GPU is NOT available: False'\n",
        "))\n",
        "\n",
        "print(('\\nYour devices that are available:\\n{0}').format(\n",
        "    [device.name for device in tf.config.experimental.list_physical_devices()]\n",
        "))"
      ],
      "execution_count": null,
      "outputs": [
        {
          "output_type": "stream",
          "text": [
            "WARNING:tensorflow:From <ipython-input-2-9ea70369aac2>:2: is_gpu_available (from tensorflow.python.framework.test_util) is deprecated and will be removed in a future version.\n",
            "Instructions for updating:\n",
            "Use `tf.config.list_physical_devices('GPU')` instead.\n",
            "Is your GPU available for use? \n",
            "Yes, your GPU is available: True\n",
            "\n",
            "Your devices that are available:\n",
            "['/physical_device:CPU:0', '/physical_device:GPU:0']\n"
          ],
          "name": "stdout"
        }
      ]
    },
    {
      "cell_type": "markdown",
      "metadata": {
        "id": "meIAavg6mnva"
      },
      "source": [
        "Check the runtime comparison"
      ]
    },
    {
      "cell_type": "code",
      "metadata": {
        "id": "_SoUuPUymX-i",
        "colab": {
          "base_uri": "https://localhost:8080/"
        },
        "outputId": "4d4598bd-0f5f-4acc-9722-229d705af280"
      },
      "source": [
        "import time\n",
        "\n",
        "cpu_slot = 0\n",
        "gpu_slot = 0\n",
        "\n",
        "# Using CPU at slot 0\n",
        "with tf.device('/CPU:' + str(cpu_slot)):\n",
        "    # Starting a timer\n",
        "    start = time.time()\n",
        "\n",
        "    # Doing operations on CPU\n",
        "    random_image_cpu = tf.random.normal((100, 100, 100, 3))\n",
        "    net_cpu = tf.reduce_sum(random_image_cpu)\n",
        "\n",
        "    # Printing how long it took with CPU\n",
        "    end_cpu = time.time() - start\n",
        "    print(end_cpu)\n",
        "\n",
        "# Using the GPU at slot 0\n",
        "with tf.device('/GPU:' + str(gpu_slot)):\n",
        "    # Starting a timer\n",
        "    start = time.time()\n",
        "\n",
        "    # Doing operations on GPU\n",
        "    random_image_gpu = tf.random.normal((100, 100, 100, 3))\n",
        "    net_gpu = tf.reduce_sum(random_image_gpu)\n",
        "\n",
        "    # Printing how long it took with GPU\n",
        "    end_gpu = time.time() - start\n",
        "    print(end_gpu)\n",
        "print('GPU speedup over CPU: {}x'.format(int(end_cpu/end_gpu)))"
      ],
      "execution_count": null,
      "outputs": [
        {
          "output_type": "stream",
          "text": [
            "0.04982495307922363\n",
            "0.0009062290191650391\n",
            "GPU speedup over CPU: 54x\n"
          ],
          "name": "stdout"
        }
      ]
    },
    {
      "cell_type": "markdown",
      "metadata": {
        "id": "Mnk9WgLznexv"
      },
      "source": [
        "Basic Datatypes"
      ]
    },
    {
      "cell_type": "markdown",
      "metadata": {
        "id": "8ArPSlQ4njYA"
      },
      "source": [
        "**Constant**\n"
      ]
    },
    {
      "cell_type": "code",
      "metadata": {
        "id": "uQIA2PXVnnIL",
        "colab": {
          "base_uri": "https://localhost:8080/"
        },
        "outputId": "a4961d0e-2a7d-43ad-9a6b-609c893afc0c"
      },
      "source": [
        "c = tf.constant(4.0, dtype=tf.float64)\n",
        "c.dtype"
      ],
      "execution_count": null,
      "outputs": [
        {
          "output_type": "execute_result",
          "data": {
            "text/plain": [
              "tf.float64"
            ]
          },
          "metadata": {
            "tags": []
          },
          "execution_count": 11
        }
      ]
    },
    {
      "cell_type": "code",
      "metadata": {
        "id": "Yg4x-gsjdb_a",
        "colab": {
          "base_uri": "https://localhost:8080/"
        },
        "outputId": "903f84e2-fa9d-4447-8351-f6ebb3542ef8"
      },
      "source": [
        "print(c)"
      ],
      "execution_count": null,
      "outputs": [
        {
          "output_type": "stream",
          "text": [
            "tf.Tensor(4.0, shape=(), dtype=float64)\n"
          ],
          "name": "stdout"
        }
      ]
    },
    {
      "cell_type": "code",
      "metadata": {
        "id": "vKXMJZEgoX5P",
        "colab": {
          "base_uri": "https://localhost:8080/"
        },
        "outputId": "f8253bcb-87a6-42f3-8fb2-5da908374345"
      },
      "source": [
        "import numpy as np\n",
        "d = np.array([ [1,2,3], [4,5,6]])\n",
        "d.dtype"
      ],
      "execution_count": null,
      "outputs": [
        {
          "output_type": "execute_result",
          "data": {
            "text/plain": [
              "dtype('int64')"
            ]
          },
          "metadata": {
            "tags": []
          },
          "execution_count": 13
        }
      ]
    },
    {
      "cell_type": "code",
      "metadata": {
        "id": "6TTHXQKWodYA",
        "colab": {
          "base_uri": "https://localhost:8080/"
        },
        "outputId": "2cb09a8b-b8d5-4a1f-da17-861d86da5ad2"
      },
      "source": [
        "e = tf.constant(d)\n",
        "print(e)"
      ],
      "execution_count": null,
      "outputs": [
        {
          "output_type": "stream",
          "text": [
            "tf.Tensor(\n",
            "[[1 2 3]\n",
            " [4 5 6]], shape=(2, 3), dtype=int64)\n"
          ],
          "name": "stdout"
        }
      ]
    },
    {
      "cell_type": "code",
      "metadata": {
        "id": "_YqkPVigd_fj",
        "colab": {
          "base_uri": "https://localhost:8080/"
        },
        "outputId": "746f43fb-c740-4da9-dff7-d78fc20e0b21"
      },
      "source": [
        "e.dtype"
      ],
      "execution_count": null,
      "outputs": [
        {
          "output_type": "execute_result",
          "data": {
            "text/plain": [
              "tf.int64"
            ]
          },
          "metadata": {
            "tags": []
          },
          "execution_count": 15
        }
      ]
    },
    {
      "cell_type": "code",
      "metadata": {
        "id": "FyxVHoqfolIE",
        "colab": {
          "base_uri": "https://localhost:8080/"
        },
        "outputId": "b9186be5-2fc5-452a-95c1-68cbcac87b67"
      },
      "source": [
        "b = tf.constant( [1,0,1]) \n",
        "print (b)\n",
        "b = tf.expand_dims(b,1)\n",
        "b.shape"
      ],
      "execution_count": null,
      "outputs": [
        {
          "output_type": "stream",
          "text": [
            "tf.Tensor([1 0 1], shape=(3,), dtype=int32)\n"
          ],
          "name": "stdout"
        },
        {
          "output_type": "execute_result",
          "data": {
            "text/plain": [
              "TensorShape([3, 1])"
            ]
          },
          "metadata": {
            "tags": []
          },
          "execution_count": 17
        }
      ]
    },
    {
      "cell_type": "code",
      "metadata": {
        "id": "FKCokg4MuPt7",
        "colab": {
          "base_uri": "https://localhost:8080/"
        },
        "outputId": "1f86f491-aa1b-47e6-8748-57ce0c1f8c12"
      },
      "source": [
        "tf.random.normal(shape=(3, 3), mean=0., stddev=1.)"
      ],
      "execution_count": null,
      "outputs": [
        {
          "output_type": "execute_result",
          "data": {
            "text/plain": [
              "<tf.Tensor: shape=(3, 3), dtype=float32, numpy=\n",
              "array([[ 0.71129715, -0.24630915, -0.08783621],\n",
              "       [-0.54382795, -1.2700351 , -1.9454547 ],\n",
              "       [-0.855412  ,  0.3121424 ,  0.766999  ]], dtype=float32)>"
            ]
          },
          "metadata": {
            "tags": []
          },
          "execution_count": 18
        }
      ]
    },
    {
      "cell_type": "code",
      "metadata": {
        "id": "OgSXd0T-uTwX",
        "colab": {
          "base_uri": "https://localhost:8080/"
        },
        "outputId": "f821cb4f-a44a-4468-971d-c76988439dd5"
      },
      "source": [
        "tf.random.uniform(shape=(5, 5), minval=0, maxval=10, dtype='int32')"
      ],
      "execution_count": null,
      "outputs": [
        {
          "output_type": "execute_result",
          "data": {
            "text/plain": [
              "<tf.Tensor: shape=(5, 5), dtype=int32, numpy=\n",
              "array([[5, 4, 5, 2, 8],\n",
              "       [8, 2, 7, 4, 4],\n",
              "       [0, 7, 6, 9, 1],\n",
              "       [3, 8, 7, 2, 8],\n",
              "       [5, 7, 3, 8, 0]], dtype=int32)>"
            ]
          },
          "metadata": {
            "tags": []
          },
          "execution_count": 19
        }
      ]
    },
    {
      "cell_type": "markdown",
      "metadata": {
        "id": "Vsu3IENkrPiT"
      },
      "source": [
        "**Variables**"
      ]
    },
    {
      "cell_type": "code",
      "metadata": {
        "id": "t8TJMm9arQmf",
        "colab": {
          "base_uri": "https://localhost:8080/"
        },
        "outputId": "9e71458b-290f-43f8-835b-f97c83c5e169"
      },
      "source": [
        "init_vals = tf.random.normal((1,5),0,1)\n",
        "var = tf.Variable(init_vals)\n",
        "print(var)"
      ],
      "execution_count": null,
      "outputs": [
        {
          "output_type": "stream",
          "text": [
            "<tf.Variable 'Variable:0' shape=(1, 5) dtype=float32, numpy=\n",
            "array([[-0.49003333,  0.48853347, -0.8463712 , -1.3088461 , -0.93033284]],\n",
            "      dtype=float32)>\n"
          ],
          "name": "stdout"
        }
      ]
    },
    {
      "cell_type": "code",
      "metadata": {
        "id": "4sJHvnOwmIMh",
        "colab": {
          "base_uri": "https://localhost:8080/"
        },
        "outputId": "dd28e1b8-fd8e-4a5e-fcf1-ba654f66fd52"
      },
      "source": [
        "var.dtype"
      ],
      "execution_count": null,
      "outputs": [
        {
          "output_type": "execute_result",
          "data": {
            "text/plain": [
              "tf.float32"
            ]
          },
          "metadata": {
            "tags": []
          },
          "execution_count": 21
        }
      ]
    },
    {
      "cell_type": "markdown",
      "metadata": {
        "id": "vQK6S0L1ubNL"
      },
      "source": [
        "We update the value of a Variable by using the methods .assign(value), or .assign_add(increment) or .assign_sub(decrement):"
      ]
    },
    {
      "cell_type": "code",
      "metadata": {
        "id": "ZpmZNtjEuh7m",
        "colab": {
          "base_uri": "https://localhost:8080/"
        },
        "outputId": "dd4dca37-dd11-4df7-ac9e-b9799ad28e89"
      },
      "source": [
        "initial_value = tf.random.normal(shape=(2, 2))\n",
        "a = tf.Variable(initial_value)\n",
        "print(a)"
      ],
      "execution_count": null,
      "outputs": [
        {
          "output_type": "stream",
          "text": [
            "<tf.Variable 'Variable:0' shape=(2, 2) dtype=float32, numpy=\n",
            "array([[ 0.4904    ,  0.6111265 ],\n",
            "       [ 0.71435165, -1.3657277 ]], dtype=float32)>\n"
          ],
          "name": "stdout"
        }
      ]
    },
    {
      "cell_type": "code",
      "metadata": {
        "id": "P6En2MDKua3o",
        "colab": {
          "base_uri": "https://localhost:8080/"
        },
        "outputId": "86d6003c-52f9-4c66-9e6b-c925f12f203e"
      },
      "source": [
        "new_value = tf.random.normal(shape=(2, 2))\n",
        "print(new_value)\n",
        "a.assign(new_value)\n",
        "for i in range(2):\n",
        "  for j in range(2):\n",
        "    assert a[i, j] == new_value[i, j]"
      ],
      "execution_count": null,
      "outputs": [
        {
          "output_type": "stream",
          "text": [
            "tf.Tensor(\n",
            "[[ 0.66531336  0.6101731 ]\n",
            " [-0.09501144 -0.9297788 ]], shape=(2, 2), dtype=float32)\n"
          ],
          "name": "stdout"
        }
      ]
    },
    {
      "cell_type": "code",
      "metadata": {
        "id": "GKnyS_eHmbNh",
        "colab": {
          "base_uri": "https://localhost:8080/"
        },
        "outputId": "63a353c5-a65c-4164-93dd-ccf5d971f0aa"
      },
      "source": [
        "print (a)"
      ],
      "execution_count": null,
      "outputs": [
        {
          "output_type": "stream",
          "text": [
            "<tf.Variable 'Variable:0' shape=(2, 2) dtype=float32, numpy=\n",
            "array([[ 0.66531336,  0.6101731 ],\n",
            "       [-0.09501144, -0.9297788 ]], dtype=float32)>\n"
          ],
          "name": "stdout"
        }
      ]
    },
    {
      "cell_type": "code",
      "metadata": {
        "id": "7l6PSFx-aq3D",
        "colab": {
          "base_uri": "https://localhost:8080/"
        },
        "outputId": "f4da6227-6425-4043-bb6a-c99ad406a6f2"
      },
      "source": [
        "print(new_value)"
      ],
      "execution_count": null,
      "outputs": [
        {
          "output_type": "stream",
          "text": [
            "tf.Tensor(\n",
            "[[ 0.66531336  0.6101731 ]\n",
            " [-0.09501144 -0.9297788 ]], shape=(2, 2), dtype=float32)\n"
          ],
          "name": "stdout"
        }
      ]
    },
    {
      "cell_type": "code",
      "metadata": {
        "id": "tO4mdlGXumvt"
      },
      "source": [
        "added_value = tf.random.normal(shape=(2, 2))\n",
        "a.assign_add(added_value)\n",
        "for i in range(2):\n",
        "  for j in range(2):\n",
        "    assert a[i, j] == new_value[i, j] + added_value[i, j]"
      ],
      "execution_count": null,
      "outputs": []
    },
    {
      "cell_type": "code",
      "metadata": {
        "id": "ZIJNerMJmnRG",
        "colab": {
          "base_uri": "https://localhost:8080/"
        },
        "outputId": "8a2ffedc-6258-42db-b0fc-14c4027b2d88"
      },
      "source": [
        "print(a)"
      ],
      "execution_count": null,
      "outputs": [
        {
          "output_type": "stream",
          "text": [
            "<tf.Variable 'Variable:0' shape=(2, 2) dtype=float32, numpy=\n",
            "array([[ 0.67174566, -0.9589437 ],\n",
            "       [-0.34649244,  0.37083697]], dtype=float32)>\n"
          ],
          "name": "stdout"
        }
      ]
    },
    {
      "cell_type": "code",
      "metadata": {
        "id": "TtDgfx7ru0OJ"
      },
      "source": [
        "a = tf.random.normal(shape=(2, 2))\n",
        "b = tf.random.normal(shape=(2, 2))\n",
        "\n",
        "c = a + b\n",
        "d = tf.square(c)\n",
        "e = tf.exp(d)"
      ],
      "execution_count": null,
      "outputs": []
    },
    {
      "cell_type": "code",
      "metadata": {
        "id": "XbgUOeQAu4En",
        "colab": {
          "base_uri": "https://localhost:8080/"
        },
        "outputId": "73127b0a-a48f-4b16-a01c-e359b506b499"
      },
      "source": [
        "print (c,d,e)"
      ],
      "execution_count": null,
      "outputs": [
        {
          "output_type": "stream",
          "text": [
            "tf.Tensor(\n",
            "[[ 0.25494266 -0.5497949 ]\n",
            " [ 0.11792099 -2.3667414 ]], shape=(2, 2), dtype=float32) tf.Tensor(\n",
            "[[0.06499576 0.30227444]\n",
            " [0.01390536 5.6014647 ]], shape=(2, 2), dtype=float32) tf.Tensor(\n",
            "[[  1.0671544   1.3529325]\n",
            " [  1.0140024 270.8228   ]], shape=(2, 2), dtype=float32)\n"
          ],
          "name": "stdout"
        }
      ]
    },
    {
      "cell_type": "markdown",
      "metadata": {
        "id": "DwR3H7bNr5Uu"
      },
      "source": [
        "**Simple Operations**\n",
        "\n",
        "We need to know the basic operations in tensorflow, in order to be able to use tensorflow for most of our work.\n",
        "\n",
        "**Common Use**\n",
        "\n",
        "This is some of the common functions from tensorflow, that you will probably need to use at some point.\n",
        "\n",
        "* Making tensors tf.constant and tf.Variable\n",
        "\n",
        "* Concatenation of two tensors by tf.concat\n",
        "\n",
        "* Making tensors by tf.zeros or tf.ones\n",
        "\n",
        "* Reshape data by tf.reshape\n",
        "\n",
        "* Casting tensors to other data types by tf.cast"
      ]
    },
    {
      "cell_type": "markdown",
      "metadata": {
        "id": "OYq1CjOtsZMJ"
      },
      "source": [
        "Concatenation by tf.concat and making tensors by tf.constant"
      ]
    },
    {
      "cell_type": "code",
      "metadata": {
        "id": "cqxn6Jl_sVPm",
        "colab": {
          "base_uri": "https://localhost:8080/"
        },
        "outputId": "b2f0cbfd-648f-44ce-bfda-5ae9a3271f4c"
      },
      "source": [
        "# Making a constant tensor A, that does not change\n",
        "A = tf.constant([[3, 2],\n",
        "                 [5, 2]])\n",
        "\n",
        "# Making a Variable tensor VA, which can change. Notice it's .Variable\n",
        "VA = tf.Variable([[3, 2],\n",
        "                 [5, 2]])\n",
        "\n",
        "# Making another tensor B\n",
        "B = tf.constant([[9, 5],\n",
        "                 [1, 3]])\n",
        "\n",
        "# Concatenate columns\n",
        "AB_concatenated = tf.concat(values=[A, B], axis=1)\n",
        "print(('Adding B\\'s columns to A:\\n{0}').format(\n",
        "    AB_concatenated.numpy()\n",
        "))\n",
        "\n",
        "# Concatenate rows\n",
        "AB_concatenated = tf.concat(values=[A, B], axis=0)\n",
        "print(('\\nAdding B\\'s rows to A:\\n{0}').format(\n",
        "    AB_concatenated.numpy()\n",
        "))"
      ],
      "execution_count": null,
      "outputs": [
        {
          "output_type": "stream",
          "text": [
            "Adding B's columns to A:\n",
            "[[3 2 9 5]\n",
            " [5 2 1 3]]\n",
            "\n",
            "Adding B's rows to A:\n",
            "[[3 2]\n",
            " [5 2]\n",
            " [9 5]\n",
            " [1 3]]\n"
          ],
          "name": "stdout"
        }
      ]
    },
    {
      "cell_type": "markdown",
      "metadata": {
        "id": "_LDKQgHYtCnV"
      },
      "source": [
        "Making tensors by tf.zeros and tf.ones\n"
      ]
    },
    {
      "cell_type": "code",
      "metadata": {
        "id": "K72HOBvytGyL",
        "colab": {
          "base_uri": "https://localhost:8080/"
        },
        "outputId": "b0877e14-d51b-44e2-ba3e-33fdec650eb5"
      },
      "source": [
        "# Making a tensor filled with zeros. shape=[rows, columns]\n",
        "tensor = tf.zeros(shape=[3, 4], dtype=tf.int32)\n",
        "print(('Tensor full of zeros as int32, 3 rows and 4 columns:\\n{0}').format(\n",
        "    tensor.numpy()\n",
        "))\n",
        "\n",
        "# Making a tensor filled with zeros with data type of float32\n",
        "tensor = tf.ones(shape=[5, 3], dtype=tf.float32)\n",
        "print(('\\nTensor full of ones as float32, 5 rows and 3 columns:\\n{0}').format(\n",
        "    tensor.numpy()\n",
        "))"
      ],
      "execution_count": null,
      "outputs": [
        {
          "output_type": "stream",
          "text": [
            "Tensor full of zeros as int32, 3 rows and 4 columns:\n",
            "[[0 0 0 0]\n",
            " [0 0 0 0]\n",
            " [0 0 0 0]]\n",
            "\n",
            "Tensor full of ones as float32, 5 rows and 3 columns:\n",
            "[[1. 1. 1.]\n",
            " [1. 1. 1.]\n",
            " [1. 1. 1.]\n",
            " [1. 1. 1.]\n",
            " [1. 1. 1.]]\n"
          ],
          "name": "stdout"
        }
      ]
    },
    {
      "cell_type": "code",
      "metadata": {
        "id": "yrrSb66AtNdn",
        "colab": {
          "base_uri": "https://localhost:8080/"
        },
        "outputId": "51f5ddd6-4646-4570-af47-91c52542c200"
      },
      "source": [
        "# Making a tensor for reshaping\n",
        "tensor = tf.constant([[3, 2],\n",
        "                      [5, 2],\n",
        "                      [9, 5],\n",
        "                      [1, 3]])\n",
        "\n",
        "# Reshaping the tensor into a shape of: shape = [rows, columns]\n",
        "reshaped_tensor = tf.reshape(tensor=tensor,\n",
        "                            shape=[1, 8])\n",
        "\n",
        "print(('Tensor BEFORE reshape:\\n{0}').format(\n",
        "    tensor.numpy()\n",
        "))\n",
        "print(('\\nTensor AFTER reshape:\\n{0}').format(\n",
        "    reshaped_tensor.numpy()\n",
        "))"
      ],
      "execution_count": null,
      "outputs": [
        {
          "output_type": "stream",
          "text": [
            "Tensor BEFORE reshape:\n",
            "[[3 2]\n",
            " [5 2]\n",
            " [9 5]\n",
            " [1 3]]\n",
            "\n",
            "Tensor AFTER reshape:\n",
            "[[3 2 5 2 9 5 1 3]]\n"
          ],
          "name": "stdout"
        }
      ]
    },
    {
      "cell_type": "code",
      "metadata": {
        "id": "VfzeXWSNtVuI",
        "colab": {
          "base_uri": "https://localhost:8080/"
        },
        "outputId": "1f7ae224-9894-4c0f-f037-c22a34dc05b2"
      },
      "source": [
        "# Making a tensor\n",
        "tensor = tf.constant([[3.1, 2.8],\n",
        "                      [5.2, 2.3],\n",
        "                      [9.7, 5.5],\n",
        "                      [1.1, 3.4]], \n",
        "                      dtype=tf.float32)\n",
        "\n",
        "tensor_as_int = tf.cast(tensor, tf.int32)\n",
        "\n",
        "print(('Tensor with floats:\\n{0}').format(\n",
        "    tensor.numpy()\n",
        "))\n",
        "print(('\\nTensor cast from float to int (just remove the decimal, no rounding):\\n{0}').format(\n",
        "    tensor_as_int.numpy()\n",
        "))"
      ],
      "execution_count": null,
      "outputs": [
        {
          "output_type": "stream",
          "text": [
            "Tensor with floats:\n",
            "[[3.1 2.8]\n",
            " [5.2 2.3]\n",
            " [9.7 5.5]\n",
            " [1.1 3.4]]\n",
            "\n",
            "Tensor cast from float to int (just remove the decimal, no rounding):\n",
            "[[3 2]\n",
            " [5 2]\n",
            " [9 5]\n",
            " [1 3]]\n"
          ],
          "name": "stdout"
        }
      ]
    },
    {
      "cell_type": "markdown",
      "metadata": {
        "id": "CZhbGkH8tcS7"
      },
      "source": [
        "### The linear algebra operations\n",
        "* Transpose tensor\n",
        "* Matrix Multiplication\n",
        "* Element-wise multiplication\n",
        "* Identity Matrix\n",
        "* Determinant\n",
        "* Dot Product"
      ]
    },
    {
      "cell_type": "code",
      "metadata": {
        "id": "ISQcseLltin5",
        "colab": {
          "base_uri": "https://localhost:8080/"
        },
        "outputId": "cae4c6c9-6876-4f60-d6bd-455a438dc138"
      },
      "source": [
        "# Some Matrix A\n",
        "A = tf.constant([[3, 7],\n",
        "                 [1, 9]])\n",
        "\n",
        "A = tf.transpose(A)\n",
        "\n",
        "print(('The transposed matrix A:\\n{0}').format(\n",
        "    A\n",
        "))"
      ],
      "execution_count": null,
      "outputs": [
        {
          "output_type": "stream",
          "text": [
            "The transposed matrix A:\n",
            "[[3 1]\n",
            " [7 9]]\n"
          ],
          "name": "stdout"
        }
      ]
    },
    {
      "cell_type": "code",
      "metadata": {
        "id": "kZNUbYcDtmJS",
        "colab": {
          "base_uri": "https://localhost:8080/"
        },
        "outputId": "19d1aa62-8064-4c82-b9c2-11d5891f295f"
      },
      "source": [
        "# Some Matrix A\n",
        "A = tf.constant([[3, 7],\n",
        "                 [1, 9]])\n",
        "\n",
        "# Some vector v\n",
        "v = tf.constant([[5],\n",
        "                 [2]])\n",
        "\n",
        "# Matrix multiplication of A.v^T\n",
        "Av = tf.matmul(A, v)\n",
        "\n",
        "print(('Matrix Multiplication of A and v results in a new Tensor:\\n{0}').format(\n",
        "    Av\n",
        "))"
      ],
      "execution_count": null,
      "outputs": [
        {
          "output_type": "stream",
          "text": [
            "Matrix Multiplication of A and v results in a new Tensor:\n",
            "[[29]\n",
            " [23]]\n"
          ],
          "name": "stdout"
        }
      ]
    },
    {
      "cell_type": "code",
      "metadata": {
        "id": "KFHtRNCwtp3d",
        "colab": {
          "base_uri": "https://localhost:8080/"
        },
        "outputId": "69273f76-8747-444e-f036-a41fc144d09d"
      },
      "source": [
        "# Element-wise multiplication\n",
        "Av = tf.multiply(A, v)\n",
        "\n",
        "print(('Element-wise multiplication of A and v results in a new Tensor:\\n{0}').format(\n",
        "    Av\n",
        "))"
      ],
      "execution_count": null,
      "outputs": [
        {
          "output_type": "stream",
          "text": [
            "Element-wise multiplication of A and v results in a new Tensor:\n",
            "[[15 35]\n",
            " [ 2 18]]\n"
          ],
          "name": "stdout"
        }
      ]
    },
    {
      "cell_type": "code",
      "metadata": {
        "id": "p_bcCgbWtu4Z",
        "colab": {
          "base_uri": "https://localhost:8080/"
        },
        "outputId": "71bee51f-65aa-4389-db17-a2fb44d7bcc7"
      },
      "source": [
        "# Some Matrix A\n",
        "A = tf.constant([[3, 7],\n",
        "                 [1, 9],\n",
        "                 [2, 5]])\n",
        "\n",
        "# Get number of dimensions\n",
        "rows, columns = A.shape\n",
        "print(('Get rows and columns in tensor A:\\n{0} rows\\n{1} columns').format(\n",
        "    rows, columns\n",
        "))\n",
        "\n",
        "# Making identity matrix\n",
        "A_identity = tf.eye(num_rows = rows,\n",
        "                    num_columns = columns,\n",
        "                    dtype = tf.int32)\n",
        "print(('\\nThe identity matrix of A:\\n{0}').format(\n",
        "    A_identity.numpy()\n",
        "))"
      ],
      "execution_count": null,
      "outputs": [
        {
          "output_type": "stream",
          "text": [
            "Get rows and columns in tensor A:\n",
            "3 rows\n",
            "2 columns\n",
            "\n",
            "The identity matrix of A:\n",
            "[[1 0]\n",
            " [0 1]\n",
            " [0 0]]\n"
          ],
          "name": "stdout"
        }
      ]
    },
    {
      "cell_type": "code",
      "metadata": {
        "id": "dvM490dUtwSu",
        "colab": {
          "base_uri": "https://localhost:8080/"
        },
        "outputId": "565331f8-483e-4093-d2a5-5c82435a639d"
      },
      "source": [
        "# Reusing Matrix A\n",
        "A = tf.constant([[3, 7],\n",
        "                 [1, 9]])\n",
        "\n",
        "# Determinant must be: half, float32, float64, complex64, complex128\n",
        "# Thus, we cast A to the data type float32\n",
        "A = tf.dtypes.cast(A, tf.float32)\n",
        "\n",
        "# Finding the determinant of A\n",
        "det_A = tf.linalg.det(A)\n",
        "\n",
        "print(('The determinant of A:\\n{0}').format(\n",
        "    det_A\n",
        "))"
      ],
      "execution_count": null,
      "outputs": [
        {
          "output_type": "stream",
          "text": [
            "The determinant of A:\n",
            "20.000001907348633\n"
          ],
          "name": "stdout"
        }
      ]
    },
    {
      "cell_type": "code",
      "metadata": {
        "id": "5Tml7JLqt4Lg",
        "colab": {
          "base_uri": "https://localhost:8080/"
        },
        "outputId": "dda6a2d3-e522-4c6f-8095-d4277cda43f2"
      },
      "source": [
        "# Defining a 3x3 matrix\n",
        "A = tf.constant([[32, 83, 5],\n",
        "                 [17, 23, 10],\n",
        "                 [75, 39, 52]])\n",
        "\n",
        "# Defining another 3x3 matrix\n",
        "B = tf.constant([[28, 57, 20],\n",
        "                 [91, 10, 95],\n",
        "                 [37, 13, 45]])\n",
        "\n",
        "# Finding the dot product\n",
        "dot_AB = tf.tensordot(a=A, b=B, axes=1).numpy()\n",
        "\n",
        "print(('Dot product of A.B^T results in a new Tensor:\\n{0}').format(\n",
        "    dot_AB\n",
        "))\n",
        "\n",
        "# Which is the same as matrix multiplication in this instance (axes=1)\n",
        "# Matrix multiplication of A and B\n",
        "AB = tf.matmul(A, B)\n",
        "\n",
        "print(('\\nMatrix Multiplication of A.B^T results in a new Tensor:\\n{0}').format(\n",
        "    AB\n",
        "))"
      ],
      "execution_count": null,
      "outputs": [
        {
          "output_type": "stream",
          "text": [
            "Dot product of A.B^T results in a new Tensor:\n",
            "[[8634 2719 8750]\n",
            " [2939 1329 2975]\n",
            " [7573 5341 7545]]\n",
            "\n",
            "Matrix Multiplication of A.B^T results in a new Tensor:\n",
            "[[8634 2719 8750]\n",
            " [2939 1329 2975]\n",
            " [7573 5341 7545]]\n"
          ],
          "name": "stdout"
        }
      ]
    },
    {
      "cell_type": "markdown",
      "metadata": {
        "id": "lQnif_fst-XY"
      },
      "source": [
        "### Calculating Gradients\n",
        "When using gradient tape from TensorFlow, we need to create a tf.Variable and not tf.constant, because TensorFlow does not watch constants. The great thing about making variables is that we can use gradient tape at any time, and TensorFlow will automatically give us the gradient."
      ]
    },
    {
      "cell_type": "code",
      "metadata": {
        "id": "uKny5OJZuA78",
        "colab": {
          "base_uri": "https://localhost:8080/"
        },
        "outputId": "484baa12-77bf-4ecf-ce09-da314893ca08"
      },
      "source": [
        "a = tf.random.normal(shape=(2, 2))\n",
        "b = tf.random.normal(shape=(2, 2))\n",
        "\n",
        "with tf.GradientTape() as tape:\n",
        "  tape.watch(a)  # Start recording the history of operations applied to `a`\n",
        "  c = tf.sqrt(tf.square(a) + tf.square(b))  # Do some math using `a`\n",
        "  print (c)\n",
        "  # What's the gradient of `c` with respect to `a`?\n",
        "  dc_da = tape.gradient(c, a)\n",
        "  print(dc_da)\n",
        "#   dc_db = tape.gradient(c, b)\n",
        "#   print(dc_db)"
      ],
      "execution_count": null,
      "outputs": [
        {
          "output_type": "stream",
          "text": [
            "tf.Tensor(\n",
            "[[0.7720292  1.742573  ]\n",
            " [0.94045144 2.2584229 ]], shape=(2, 2), dtype=float32)\n",
            "tf.Tensor(\n",
            "[[ 0.97778225 -0.96457016]\n",
            " [ 0.9935382   0.707905  ]], shape=(2, 2), dtype=float32)\n"
          ],
          "name": "stdout"
        }
      ]
    },
    {
      "cell_type": "code",
      "metadata": {
        "id": "UyEkKjaSvIUj",
        "colab": {
          "base_uri": "https://localhost:8080/"
        },
        "outputId": "a5bfa0b6-d494-4667-bee7-dc324bf7cb8f"
      },
      "source": [
        "a = tf.Variable(a)\n",
        "\n",
        "with tf.GradientTape() as tape:\n",
        "  c = tf.sqrt(tf.square(a) + tf.square(b))\n",
        "  dc_da = tape.gradient(c, a)  # automatic gradient calculation\n",
        "  print(dc_da)"
      ],
      "execution_count": null,
      "outputs": [
        {
          "output_type": "stream",
          "text": [
            "tf.Tensor(\n",
            "[[ 0.97778225 -0.96457016]\n",
            " [ 0.9935382   0.707905  ]], shape=(2, 2), dtype=float32)\n"
          ],
          "name": "stdout"
        }
      ]
    },
    {
      "cell_type": "code",
      "metadata": {
        "id": "MfHvEMtWvL-n",
        "colab": {
          "base_uri": "https://localhost:8080/"
        },
        "outputId": "361bf19c-e52e-4125-d281-2905d7f9ccbd"
      },
      "source": [
        "with tf.GradientTape() as outer_tape:\n",
        "  with tf.GradientTape() as tape:\n",
        "    c = tf.sqrt(tf.square(a) + tf.square(b))\n",
        "    dc_da = tape.gradient(c, a)\n",
        "  d2c_da2 = outer_tape.gradient(dc_da, a)\n",
        "  print(d2c_da2)   # double differentiation"
      ],
      "execution_count": null,
      "outputs": [
        {
          "output_type": "stream",
          "text": [
            "tf.Tensor(\n",
            "[[0.05691731 0.03994346]\n",
            " [0.0136975  0.22089331]], shape=(2, 2), dtype=float32)\n"
          ],
          "name": "stdout"
        }
      ]
    },
    {
      "cell_type": "markdown",
      "metadata": {
        "id": "Uhxm3yPWvT9B"
      },
      "source": [
        "Lets take an example of Hyperbolic Tan function (tanh) and try to get its derivative.\n"
      ]
    },
    {
      "cell_type": "markdown",
      "metadata": {
        "id": "CbCpEO82wNSC"
      },
      "source": [
        "![alt text](https://mathworld.wolfram.com/images/interactive/TanhReal.gif)"
      ]
    },
    {
      "cell_type": "code",
      "metadata": {
        "id": "_cviVWPQvbDR",
        "colab": {
          "base_uri": "https://localhost:8080/"
        },
        "outputId": "ed347f3e-6840-4193-8416-8f5227c66d7d"
      },
      "source": [
        "import math\n",
        "\n",
        "def tanh(x):\n",
        "    return tf.tanh(x)\n",
        "\n",
        "def get_gradient(x, activation_function):\n",
        "    with tf.GradientTape() as gt:\n",
        "        y = activation_function(x)\n",
        "\n",
        "        gradient = gt.gradient(y, x).numpy()\n",
        "\n",
        "    return gradient\n",
        "\n",
        "x = tf.Variable(-0.02)\n",
        "gradient = get_gradient(x,tanh)\n",
        "\n",
        "print('{0} is the gradient of tanh with x={1}'.format(gradient, x.numpy()))"
      ],
      "execution_count": null,
      "outputs": [
        {
          "output_type": "stream",
          "text": [
            "0.9996001124382019 is the gradient of tanh with x=-0.019999999552965164\n"
          ],
          "name": "stdout"
        }
      ]
    },
    {
      "cell_type": "markdown",
      "metadata": {
        "id": "6178V2xWxF1z"
      },
      "source": [
        "### An end-to-end example: linear regression\n",
        "So far we have learned that TensorFlow is a Numpy-like library that is GPU or TPU accelerated, with automatic differentiation. Time for an end-to-end example: let's implement a linear regression."
      ]
    },
    {
      "cell_type": "code",
      "metadata": {
        "id": "SE0JpcJ6xNsp"
      },
      "source": [
        "input_dim = 2\n",
        "output_dim = 1\n",
        "learning_rate = 0.01 # subject to change\n",
        "\n",
        "# This is our weight matrix\n",
        "w = tf.Variable(tf.random.uniform(shape=(input_dim, output_dim))) # parameters, equal to theta\n",
        "# This is our bias vector\n",
        "b = tf.Variable(tf.zeros(shape=(output_dim,))) # intercept\n",
        "\n",
        "def compute_predictions(features): # define hypothesis\n",
        "  return tf.matmul(features, w) + b\n",
        "\n",
        "def compute_loss(labels, predictions): # define MSE\n",
        "  return tf.reduce_mean(tf.square(labels - predictions))\n",
        "\n",
        "def train(x, y): # training and updating through GD updates\n",
        "  with tf.GradientTape() as tape:\n",
        "    predictions = compute_predictions(x) # y_pred or y hat\n",
        "    loss = compute_loss(y, predictions)  # loss returned\n",
        "    dloss_dw, dloss_db = tape.gradient(loss, [w, b]) # gradient w.r.t. w and b\n",
        "  w.assign_sub(learning_rate * dloss_dw) # reassign weights\n",
        "  b.assign_sub(learning_rate * dloss_db) # reassign bias\n",
        "  return loss"
      ],
      "execution_count": null,
      "outputs": []
    },
    {
      "cell_type": "code",
      "metadata": {
        "id": "IR899iPvyUUW"
      },
      "source": [
        "# Homework. \n",
        "'''To generate data and utilize the above code to run a simple linear regression.'''\n",
        "tol = 1e-3\n",
        "# write function for predict\n",
        "# write a R2 score metric\n",
        "# write a loop and stop when tolerance condition is met"
      ],
      "execution_count": null,
      "outputs": []
    },
    {
      "cell_type": "markdown",
      "metadata": {
        "id": "2SHwiN21ybHD"
      },
      "source": [
        "**Going fast with graphs**\n",
        "\n",
        "Literally all we need to do is add the tf.function decorator on it"
      ]
    },
    {
      "cell_type": "code",
      "metadata": {
        "id": "HaMGa3viy5rQ"
      },
      "source": [
        "# dummy code\n",
        "@tf.function\n",
        "def train_on_batch(x, y):\n",
        "  with tf.GradientTape() as tape:\n",
        "    predictions = compute_predictions(x)\n",
        "    loss = compute_loss(y, predictions)\n",
        "    dloss_dw, dloss_db = tape.gradient(loss, [w, b])\n",
        "  w.assign_sub(learning_rate * dloss_dw)\n",
        "  b.assign_sub(learning_rate * dloss_db)\n",
        "  return loss"
      ],
      "execution_count": null,
      "outputs": []
    },
    {
      "cell_type": "markdown",
      "metadata": {
        "id": "afnpEWu_zMSH"
      },
      "source": [
        "Lets see how fast it could go!"
      ]
    },
    {
      "cell_type": "code",
      "metadata": {
        "id": "3zcV8VMyzHkV",
        "colab": {
          "base_uri": "https://localhost:8080/",
          "height": 119
        },
        "outputId": "7dfe0e49-008e-4d7b-f868-f0ad7de070c4"
      },
      "source": [
        "import timeit\n",
        "conv_layer = tf.keras.layers.Conv2D(100, 3)\n",
        "\n",
        "@tf.function\n",
        "def conv_fn(image):\n",
        "  return conv_layer(image)\n",
        "\n",
        "image = tf.ones([1, 200, 200, 100])\n",
        "# warm up\n",
        "conv_layer(image); conv_fn(image)\n",
        "\n",
        "no_tf_fn = timeit.timeit(lambda: conv_layer(image), number=10) # tensorflow layer\n",
        "with_tf_fn = timeit.timeit(lambda: conv_fn(image), number=10) # graph\n",
        "difference = no_tf_fn - with_tf_fn\n",
        "\n",
        "print(\"Without tf.function: \", no_tf_fn)\n",
        "print(\"With tf.function: \", with_tf_fn)\n",
        "print(\"The difference: \", difference)\n",
        "\n",
        "print(\"\\nJust imagine when we have to do millions/billions of these calculations\")\n",
        "print(\"Difference times a billion: \", difference*1000000000)"
      ],
      "execution_count": null,
      "outputs": [
        {
          "output_type": "stream",
          "text": [
            "Without tf.function:  0.0031778369993844535\n",
            "With tf.function:  0.00482045399985509\n",
            "The difference:  -0.0016426170004706364\n",
            "\n",
            "Just imagine when we have to do millions/billions of these calculations\n",
            "Difference times a billion:  -1642617.0004706364\n"
          ],
          "name": "stdout"
        }
      ]
    }
  ]
}