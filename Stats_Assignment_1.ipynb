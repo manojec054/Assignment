{
  "nbformat": 4,
  "nbformat_minor": 0,
  "metadata": {
    "colab": {
      "name": "Stats_Assignment # 1.ipynb",
      "provenance": [],
      "collapsed_sections": []
    },
    "kernelspec": {
      "name": "python3",
      "display_name": "Python 3"
    }
  },
  "cells": [
    {
      "cell_type": "markdown",
      "metadata": {
        "id": "wSgviyE2o9wF"
      },
      "source": [
        "## Assignment # 1\n",
        "\n",
        "Hey guys. This is your first assignment for Linear Algebra. Its just to check how much you guys are good with programming to achieve simple matrix operations. Feel free to code in Python. Don't use inbuilt functions. Create your own.\n",
        "\n",
        "\n",
        "\n",
        "Mail your files to amritansh.48@gmail.com\n",
        "\n"
      ]
    },
    {
      "cell_type": "code",
      "metadata": {
        "id": "NOoBfBX1o46N"
      },
      "source": [
        "import numpy as np"
      ],
      "execution_count": 168,
      "outputs": []
    },
    {
      "cell_type": "markdown",
      "metadata": {
        "id": "4hFJi6tUpnPz"
      },
      "source": [
        "**Q1**. Intialize 3 different matrices of following dimensions : (5 x 5 ), (7 x 8 x 9), (10 x 13 x 5 x 7). Use random integers as inputs. Print them out."
      ]
    },
    {
      "cell_type": "code",
      "execution_count": 54,
      "metadata": {},
      "outputs": [
        {
          "output_type": "execute_result",
          "data": {
            "text/plain": [
              "[[40, 82, 55, 6, 67],\n",
              " [34, 18, 12, 79, 41],\n",
              " [80, 33, 25, 13, 69],\n",
              " [9, 76, 95, 35, 68],\n",
              " [10, 49, 84, 25, 23]]"
            ]
          },
          "metadata": {},
          "execution_count": 54
        }
      ],
      "source": [
        "def create_2d(m, n):\n",
        "    array_2d = []\n",
        "    array_2d = [[np.random.randint(0, 100) for rw in range(0, m)] for cl in range(0, n)]\n",
        "    return array_2d\n",
        "\n",
        "a = create_2d(5,5)\n",
        "a"
      ]
    },
    {
      "cell_type": "code",
      "execution_count": 66,
      "metadata": {},
      "outputs": [
        {
          "output_type": "execute_result",
          "data": {
            "text/plain": [
              "array([[[22, 45,  8, 71],\n",
              "        [28, 94, 14, 21],\n",
              "        [52,  9, 93, 79]],\n",
              "\n",
              "       [[81, 80, 55,  8],\n",
              "        [78, 92, 45, 62],\n",
              "        [83, 26, 79, 39]]])"
            ]
          },
          "metadata": {},
          "execution_count": 66
        }
      ],
      "source": [
        "def create_3d(a, b, c):\n",
        "    array_3d = []\n",
        "    array_3d = [[[np.random.randint(0, 100) for x in range(0, c)] for rw in range(0, b)] for cl in range(0, a)]\n",
        "    return array_3d\n",
        "\n",
        "b = create_3d(2,3,4)\n",
        "np.array(b)"
      ]
    },
    {
      "cell_type": "code",
      "execution_count": 71,
      "metadata": {},
      "outputs": [],
      "source": [
        "def create_4d(a, b, c, d):\n",
        "    array_3d = []\n",
        "    array_3d = [[[[np.random.randint(0, 100) for _ in range(0, d)] for x in range(0, c)] for rw in range(0, b)] for cl in range(0, a)]\n",
        "    return array_3d\n",
        "\n",
        "b = create_4d(10, 13, 9, 7)\n",
        "b = np.array(b)"
      ]
    },
    {
      "cell_type": "code",
      "execution_count": null,
      "metadata": {},
      "outputs": [],
      "source": []
    },
    {
      "cell_type": "markdown",
      "metadata": {
        "id": "oHdxeAaxuYZE"
      },
      "source": [
        "**Q2. **Addition and substraction \n",
        "\n",
        "Take 3 Matrices A , B, C. All have same dimensions ( 5 x 3). \n",
        "Perform the follwoing operations and print them out.\n",
        "\n",
        "a. A + B +C\n",
        "\n",
        "b. B - C\n",
        "\n",
        "c. C - A\n",
        "\n",
        "d. A+C-B\n",
        "\n",
        "e. A-1\n",
        "\n",
        "f . B + 2"
      ]
    },
    {
      "cell_type": "code",
      "metadata": {
        "id": "YtAesnmnvWj-"
      },
      "source": [
        "# your code here\n",
        "A = np.ones((5,3))\n",
        "B = np.ones((5,3)) * np.int(2)\n",
        "C = np.ones((5,3)) * np.int(3)"
      ],
      "execution_count": 82,
      "outputs": []
    },
    {
      "cell_type": "code",
      "execution_count": 87,
      "metadata": {},
      "outputs": [],
      "source": [
        "a = [[(A[m][n] + B[m][n] + C[m][n]) for n in range(0, A.shape[1])] for m in range(0, A.shape[0])]\n",
        "b = [[(B[m][n] - C[m][n]) for n in range(0, B.shape[1])] for m in range(0, B.shape[0])]\n",
        "c = [[(C[m][n] - A[m][n]) for n in range(0, C.shape[1])] for m in range(0, C.shape[0])]\n",
        "d = [[(A[m][n] + C[m][n] - B[m][n]) for n in range(0, A.shape[1])] for m in range(0, A.shape[0])]\n",
        "# e = Not possible to add/sub scalar to matrix\n",
        "# f = Not possible to add/sub scalar to matrix"
      ]
    },
    {
      "cell_type": "code",
      "execution_count": null,
      "metadata": {},
      "outputs": [],
      "source": []
    },
    {
      "cell_type": "markdown",
      "metadata": {
        "id": "PhJCsNsfvhCO"
      },
      "source": [
        "**Q 3.** Using the matrices A, B and C from above, and the vector\n",
        "x = [1, 0, 0]\n",
        "\n",
        "Perform the following and print them out:\n",
        "\n",
        "a. A^3\n",
        "\n",
        "b. B^3 * x\n",
        "\n",
        "c. C * x"
      ]
    },
    {
      "cell_type": "code",
      "execution_count": 129,
      "metadata": {},
      "outputs": [],
      "source": [
        "def cube(mat, pr):\n",
        "    res = []\n",
        "    res = [[(np.power(mat[m][n], pr)) for n in range(0, mat.shape[1])]for m in range(0, mat.shape[0])]\n",
        "    return res"
      ]
    },
    {
      "cell_type": "code",
      "execution_count": 169,
      "metadata": {},
      "outputs": [],
      "source": [
        "def mat_mul(mat1, mat2):\n",
        "    res = np.zeros((mat1.shape[0], mat2.shape[1]))\n",
        "    for i in range(len(mat1)):\n",
        "        for j in range(len(mat2[0])):\n",
        "            for k in range(len(mat2)):\n",
        "                res[i][j] += mat1[i][k] * mat2[k][j]\n",
        "    return res\n",
        "\n",
        "        \n"
      ]
    },
    {
      "cell_type": "code",
      "execution_count": 143,
      "metadata": {},
      "outputs": [],
      "source": [
        "I = np.array([1, 0, 0]).reshape((3,1))"
      ]
    },
    {
      "cell_type": "code",
      "execution_count": 174,
      "metadata": {},
      "outputs": [],
      "source": [
        "res1 = cube(A, 3)\n",
        "res2 = mat_mul(np.array(cube(B, 3)), I)\n",
        "res3 = mat_mul(C, I)"
      ]
    },
    {
      "cell_type": "code",
      "execution_count": null,
      "metadata": {},
      "outputs": [],
      "source": []
    },
    {
      "cell_type": "markdown",
      "metadata": {
        "id": "99h9aIK6x_Xt"
      },
      "source": [
        "**Q4**. Using the matrices A, B and C from above, perform the follwoing and print them out:\n",
        "\n",
        "a. A (Transpose) \n",
        "\n",
        "b. C (Transpose ) + B (Transpose)\n",
        "\n",
        "\n"
      ]
    },
    {
      "cell_type": "code",
      "metadata": {
        "id": "dH5YXZWOy9z8"
      },
      "source": [
        "# your code here\n",
        "def transpose(mat):\n",
        "    ar = np.zeros((mat.shape[1], mat.shape[0]))\n",
        "    for m in range(0, mat.shape[0]):\n",
        "        for n in range(0, mat.shape[1]):\n",
        "            ar[n][m] = mat[m][n]\n",
        "    return ar"
      ],
      "execution_count": 160,
      "outputs": []
    },
    {
      "cell_type": "code",
      "execution_count": 162,
      "metadata": {},
      "outputs": [],
      "source": [
        "res1 = transpose(A)\n",
        "\n",
        "c1 = transpose(C)\n",
        "b1 = transpose(B)\n",
        "res2 = [[(c1[m][n] + b1[m][n]) for n in range(0, b1.shape[1])] for m in range(0, c1.shape[0])]\n"
      ]
    },
    {
      "cell_type": "markdown",
      "metadata": {
        "id": "bpyYTy5fy_Hc"
      },
      "source": [
        "**Q5**. Print out an identity matrix of (5 x 5) using a function"
      ]
    },
    {
      "cell_type": "code",
      "metadata": {
        "id": "kVRbmqoxzeAN"
      },
      "source": [
        "def indetity_matrix(n): \n",
        "  # your code here\n",
        "  # it should return/print  an identity matrix of n x n dimension\n",
        "  ar = np.zeros((n, n))\n",
        "  for x in range(0, n):\n",
        "    ar[x][x] = 1\n",
        "  return ar"
      ],
      "execution_count": 163,
      "outputs": []
    },
    {
      "cell_type": "code",
      "execution_count": 175,
      "metadata": {},
      "outputs": [
        {
          "output_type": "execute_result",
          "data": {
            "text/plain": [
              "array([[1., 0., 0., 0., 0.],\n",
              "       [0., 1., 0., 0., 0.],\n",
              "       [0., 0., 1., 0., 0.],\n",
              "       [0., 0., 0., 1., 0.],\n",
              "       [0., 0., 0., 0., 1.]])"
            ]
          },
          "metadata": {},
          "execution_count": 175
        }
      ],
      "source": [
        "indetity_matrix(5)"
      ]
    },
    {
      "cell_type": "markdown",
      "metadata": {
        "id": "XSjaohxVzszy"
      },
      "source": [
        "**Q6**. Take 3 matrices of dimension (3 x 3 ) each. Name them as Mat_A, Mat_B, Mat_C. Perform the following :\n",
        "\n",
        "a. 4 * Mat_A^2 + 12 * Mat_A * Mat_B + 9 * Mat_B^2\n",
        "\n",
        "\n",
        "b. 2 * Mat_A * (2 * Mat_A + 3 * Mat_B) + 3 * (2 * Mat_A + 3 * Mat_B) * Mat_B"
      ]
    },
    {
      "cell_type": "code",
      "metadata": {
        "id": "Ec5GmU-604Gd"
      },
      "source": [
        "# your code here"
      ],
      "execution_count": null,
      "outputs": []
    },
    {
      "cell_type": "markdown",
      "metadata": {
        "id": "j7hVncp7qElP"
      },
      "source": [
        "**Q7**. For any Matrix A write a function to print out is it singular or not?"
      ]
    },
    {
      "cell_type": "code",
      "metadata": {
        "id": "RFa33JwjuSvT"
      },
      "source": [
        "def isSingular(A) :\n",
        "  if (determinants(A) == 0):\n",
        "    return True\n",
        "  else:\n",
        "    return False"
      ],
      "execution_count": 196,
      "outputs": []
    },
    {
      "cell_type": "markdown",
      "metadata": {
        "id": "ifS64Baf1GEB"
      },
      "source": [
        "**Q8.** Print out the deteminants of A, B, C"
      ]
    },
    {
      "cell_type": "code",
      "metadata": {
        "id": "ViWUTEAm1PEo"
      },
      "source": [
        "# your code here\n",
        "def determinants(mat):\n",
        "    return np.linalg.det(mat)"
      ],
      "execution_count": 194,
      "outputs": []
    },
    {
      "cell_type": "code",
      "execution_count": 195,
      "metadata": {},
      "outputs": [],
      "source": [
        "# A, B, C are not square mat, so determinant cant be calculated"
      ]
    }
  ]
}